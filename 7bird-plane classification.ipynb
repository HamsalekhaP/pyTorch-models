{
 "cells": [
  {
   "cell_type": "code",
   "execution_count": 1,
   "metadata": {},
   "outputs": [
    {
     "name": "stdout",
     "output_type": "stream",
     "text": [
      "Files already downloaded and verified\n",
      "Files already downloaded and verified\n"
     ]
    }
   ],
   "source": [
    "from torchvision import datasets\n",
    "data_path = 'data-unversioned/p1ch6/'\n",
    "cifar10 = datasets.CIFAR10(data_path, train=True, download=True)\n",
    "cifar10_val = datasets.CIFAR10(data_path, train=False, download=True)\n",
    "\n"
   ]
  },
  {
   "cell_type": "code",
   "execution_count": 2,
   "metadata": {},
   "outputs": [
    {
     "data": {
      "text/plain": [
       "<Figure size 640x480 with 1 Axes>"
      ]
     },
     "metadata": {},
     "output_type": "display_data"
    }
   ],
   "source": [
    "#from matplotlib import pyplot as plt\n",
    "from matplotlib import pyplot as plt\n",
    "\n",
    "len(cifar10)\n",
    "len(cifar10_val)\n",
    "img,label=cifar10[1]\n",
    "plt.imshow(img)\n",
    "plt.show()\n"
   ]
  },
  {
   "cell_type": "code",
   "execution_count": 3,
   "metadata": {},
   "outputs": [],
   "source": [
    "len(cifar10)\n",
    "from torchvision import transforms\n",
    "dir(transforms)\n",
    "\n",
    "#to_tensor = transforms.ToTensor()\n",
    "#img_t = to_tensor(img)\n",
    "#img_t.shape\n",
    "tensor_cifar10 = datasets.CIFAR10(data_path, train=True, download=False,\n",
    " transform=transforms.ToTensor())\n"
   ]
  },
  {
   "cell_type": "code",
   "execution_count": 30,
   "metadata": {},
   "outputs": [
    {
     "data": {
      "text/plain": [
       "1"
      ]
     },
     "execution_count": 30,
     "metadata": {},
     "output_type": "execute_result"
    },
    {
     "data": {
      "image/png": "[encoded data removed]",
      "text/plain": [
       "<Figure size 432x288 with 1 Axes>"
      ]
     },
     "metadata": {
      "needs_background": "light"
     },
     "output_type": "display_data"
    }
   ],
   "source": [
    "img_t, _ = tensor_cifar10[99]\n",
    "plt.imshow(img_t.permute(1, 2, 0))\n",
    "img_t.permute(1, 2, 0).shape\n",
    "_"
   ]
  },
  {
   "cell_type": "code",
   "execution_count": 5,
   "metadata": {},
   "outputs": [
    {
     "data": {
      "text/plain": [
       "torch.Size([3, 32, 32, 50000])"
      ]
     },
     "execution_count": 5,
     "metadata": {},
     "output_type": "execute_result"
    }
   ],
   "source": [
    "import torch\n",
    "imgs = torch.stack([img_t for img_t, _ in tensor_cifar10], dim=3)\n",
    "imgs.shape"
   ]
  },
  {
   "cell_type": "code",
   "execution_count": 6,
   "metadata": {},
   "outputs": [
    {
     "name": "stdout",
     "output_type": "stream",
     "text": [
      "tensor([0.4915, 0.4823, 0.4468])\n",
      "tensor([0.2470, 0.2435, 0.2616])\n"
     ]
    }
   ],
   "source": [
    "print(imgs.view(3, -1).mean(dim=1))\n",
    "print(imgs.view(3, -1).std(dim=1))"
   ]
  },
  {
   "cell_type": "code",
   "execution_count": 7,
   "metadata": {},
   "outputs": [],
   "source": [
    "cifar10 = datasets.CIFAR10(data_path, train=True, download=False,\n",
    " transform=transforms.Compose([transforms.ToTensor(), transforms.Normalize((0.4915, 0.4823, 0.4468),(0.2470, 0.2435, 0.2616))]))\n",
    "cifar10_val = datasets.CIFAR10(data_path, train=False, download=False,\n",
    "                          transform=transforms.Compose([\n",
    "                              transforms.ToTensor(),\n",
    "                              transforms.Normalize((0.4915, 0.4823, 0.4468),\n",
    "                                                   (0.2470, 0.2435, 0.2616))\n",
    "                          ]))"
   ]
  },
  {
   "cell_type": "code",
   "execution_count": 8,
   "metadata": {},
   "outputs": [
    {
     "name": "stderr",
     "output_type": "stream",
     "text": [
      "Clipping input data to the valid range for imshow with RGB data ([0..1] for floats or [0..255] for integers).\n"
     ]
    },
    {
     "data": {
      "image/png": "[encoded data removed]",
      "text/plain": [
       "<Figure size 432x288 with 1 Axes>"
      ]
     },
     "metadata": {
      "needs_background": "light"
     },
     "output_type": "display_data"
    }
   ],
   "source": [
    "img_t, _ = cifar10[99]\n",
    "plt.imshow(img_t.permute(1, 2, 0))\n",
    "plt.show()"
   ]
  },
  {
   "cell_type": "code",
   "execution_count": 9,
   "metadata": {},
   "outputs": [],
   "source": [
    "label_map={0:0,2:1}\n",
    "class_names = ['airplane', 'bird']\n",
    "cifar2=[(img, label_map[label]) for img, label in cifar10 if label in [0,2] ]\n",
    "cifar2_val = [(img, label_map[label]) for img, label in cifar10_val if label in [0, 2]]\n"
   ]
  },
  {
   "cell_type": "code",
   "execution_count": 39,
   "metadata": {},
   "outputs": [],
   "source": [
    "import torch.nn as nn\n",
    "n_out=2\n",
    "model= nn.Sequential(\n",
    "        nn.Linear(3072,512,),\n",
    "        nn.Tanh(),\n",
    "        nn.Linear(512,n_out,),\n",
    "        nn.LogSoftmax(dim=1)\n",
    "      )\n",
    "\n",
    "loss_fn = nn.NLLLoss()"
   ]
  },
  {
   "cell_type": "code",
   "execution_count": null,
   "metadata": {},
   "outputs": [],
   "source": [
    "#check\n",
    "\n",
    "def softmax(x):\n",
    " return torch.exp(x) / torch.exp(x).sum()\n",
    "\n",
    "x = torch.tensor([1.0, 2.0, 3.0])\n",
    "softmax(x)\n",
    "\n",
    "softmax = nn.Softmax(dim=1)\n",
    "x = torch.tensor([[1.0, 2.0, 3.0],\n",
    " [1.0, 2.0, 3.0]])\n",
    "softmax(x)"
   ]
  },
  {
   "cell_type": "code",
   "execution_count": null,
   "metadata": {},
   "outputs": [],
   "source": [
    "img, label = cifar2[0]\n",
    "out = model(img.view(-1).unsqueeze(0))\n",
    "\n",
    "print(out)\n",
    "print(torch.tensor([label]))\n",
    "\n",
    "out-torch.tensor([label])\n",
    "loss(out, torch.tensor([label]))\n"
   ]
  },
  {
   "cell_type": "code",
   "execution_count": null,
   "metadata": {},
   "outputs": [],
   "source": [
    "img_batch = img.view(-1).unsqueeze(0)\n",
    "out = model(img_batch)"
   ]
  },
  {
   "cell_type": "code",
   "execution_count": 15,
   "metadata": {},
   "outputs": [
    {
     "data": {
      "text/plain": [
       "<torch.utils.data.dataloader.DataLoader at 0x18585f99470>"
      ]
     },
     "execution_count": 15,
     "metadata": {},
     "output_type": "execute_result"
    }
   ],
   "source": [
    "train_loader = torch.utils.data.DataLoader(cifar2, batch_size=64, shuffle=True)\n",
    "\n"
   ]
  },
  {
   "cell_type": "code",
   "execution_count": 40,
   "metadata": {},
   "outputs": [
    {
     "name": "stdout",
     "output_type": "stream",
     "text": [
      "10000\n",
      "Epoch: 0, Loss: 0.428607\n",
      "Epoch: 1, Loss: 0.399441\n",
      "Epoch: 2, Loss: 0.605890\n",
      "Epoch: 3, Loss: 0.448152\n",
      "Epoch: 4, Loss: 0.627773\n",
      "Epoch: 5, Loss: 0.511513\n",
      "Epoch: 6, Loss: 0.374141\n",
      "Epoch: 7, Loss: 0.377351\n",
      "Epoch: 8, Loss: 0.351803\n",
      "Epoch: 9, Loss: 0.230886\n",
      "Epoch: 10, Loss: 0.394444\n",
      "Epoch: 11, Loss: 0.324049\n",
      "Epoch: 12, Loss: 0.407406\n",
      "Epoch: 13, Loss: 0.172562\n",
      "Epoch: 14, Loss: 0.318452\n",
      "Epoch: 15, Loss: 0.326072\n",
      "Epoch: 16, Loss: 0.608959\n",
      "Epoch: 17, Loss: 0.277999\n",
      "Epoch: 18, Loss: 0.279768\n",
      "Epoch: 19, Loss: 0.099608\n",
      "Epoch: 20, Loss: 0.177448\n",
      "Epoch: 21, Loss: 0.192958\n",
      "Epoch: 22, Loss: 0.245379\n",
      "Epoch: 23, Loss: 0.229169\n",
      "Epoch: 24, Loss: 0.240401\n",
      "Epoch: 25, Loss: 0.197273\n",
      "Epoch: 26, Loss: 0.214731\n",
      "Epoch: 27, Loss: 0.338676\n",
      "Epoch: 28, Loss: 0.108458\n",
      "Epoch: 29, Loss: 0.276919\n",
      "Epoch: 30, Loss: 0.232021\n",
      "Epoch: 31, Loss: 0.276517\n",
      "Epoch: 32, Loss: 0.066228\n",
      "Epoch: 33, Loss: 0.153310\n",
      "Epoch: 34, Loss: 0.107838\n",
      "Epoch: 35, Loss: 0.121423\n",
      "Epoch: 36, Loss: 0.185388\n",
      "Epoch: 37, Loss: 0.078780\n",
      "Epoch: 38, Loss: 0.296677\n",
      "Epoch: 39, Loss: 0.073256\n",
      "Epoch: 40, Loss: 0.155993\n",
      "Epoch: 41, Loss: 0.253352\n",
      "Epoch: 42, Loss: 0.091628\n",
      "Epoch: 43, Loss: 0.069132\n",
      "Epoch: 44, Loss: 0.338819\n",
      "Epoch: 45, Loss: 0.064994\n",
      "Epoch: 46, Loss: 0.120158\n",
      "Epoch: 47, Loss: 0.037143\n",
      "Epoch: 48, Loss: 0.212534\n",
      "Epoch: 49, Loss: 0.030562\n",
      "Epoch: 50, Loss: 0.071369\n",
      "Epoch: 51, Loss: 0.309510\n",
      "Epoch: 52, Loss: 0.063543\n",
      "Epoch: 53, Loss: 0.080124\n",
      "Epoch: 54, Loss: 0.023010\n",
      "Epoch: 55, Loss: 0.058335\n",
      "Epoch: 56, Loss: 0.108180\n",
      "Epoch: 57, Loss: 0.043231\n",
      "Epoch: 58, Loss: 0.015085\n",
      "Epoch: 59, Loss: 0.012723\n",
      "Epoch: 60, Loss: 0.045545\n",
      "Epoch: 61, Loss: 0.190221\n",
      "Epoch: 62, Loss: 0.041053\n",
      "Epoch: 63, Loss: 0.046623\n",
      "Epoch: 64, Loss: 0.050101\n",
      "Epoch: 65, Loss: 0.040489\n",
      "Epoch: 66, Loss: 0.021677\n",
      "Epoch: 67, Loss: 0.028476\n",
      "Epoch: 68, Loss: 0.018882\n",
      "Epoch: 69, Loss: 0.074470\n",
      "Epoch: 70, Loss: 0.017564\n",
      "Epoch: 71, Loss: 0.013265\n",
      "Epoch: 72, Loss: 0.022133\n",
      "Epoch: 73, Loss: 0.027815\n",
      "Epoch: 74, Loss: 0.032222\n",
      "Epoch: 75, Loss: 0.022650\n",
      "Epoch: 76, Loss: 0.018442\n",
      "Epoch: 77, Loss: 0.022958\n",
      "Epoch: 78, Loss: 0.061526\n",
      "Epoch: 79, Loss: 0.026714\n",
      "Epoch: 80, Loss: 0.126992\n",
      "Epoch: 81, Loss: 0.019776\n",
      "Epoch: 82, Loss: 0.010667\n",
      "Epoch: 83, Loss: 0.019260\n",
      "Epoch: 84, Loss: 0.022161\n",
      "Epoch: 85, Loss: 0.001705\n",
      "Epoch: 86, Loss: 0.020852\n",
      "Epoch: 87, Loss: 0.026345\n",
      "Epoch: 88, Loss: 0.013582\n",
      "Epoch: 89, Loss: 0.025257\n",
      "Epoch: 90, Loss: 0.014014\n",
      "Epoch: 91, Loss: 0.041910\n",
      "Epoch: 92, Loss: 0.009747\n",
      "Epoch: 93, Loss: 0.018257\n",
      "Epoch: 94, Loss: 0.030211\n",
      "Epoch: 95, Loss: 0.025996\n",
      "Epoch: 96, Loss: 0.014109\n",
      "Epoch: 97, Loss: 0.014650\n",
      "Epoch: 98, Loss: 0.013100\n",
      "Epoch: 99, Loss: 0.011510\n"
     ]
    }
   ],
   "source": [
    "import torch.optim as optim\n",
    "\n",
    "print(len(cifar2))\n",
    "learning_rate = 1e-2\n",
    "optimizer = optim.SGD(model.parameters(), lr=learning_rate)\n",
    "n_epochs = 100\n",
    "for epoch in range(n_epochs):\n",
    "      for imgs, labels in train_loader:\n",
    "        batch_size = imgs.shape[0]\n",
    "        outputs = model(imgs.view(batch_size, -1))\n",
    "        loss = loss_fn(outputs, labels)\n",
    "\n",
    "        optimizer.zero_grad()\n",
    "        loss.backward()\n",
    "        optimizer.step()\n",
    "      print(\"Epoch: %d, Loss: %f\" % (epoch, float(loss)))\n"
   ]
  },
  {
   "cell_type": "code",
   "execution_count": 41,
   "metadata": {},
   "outputs": [
    {
     "name": "stdout",
     "output_type": "stream",
     "text": [
      "Accuracy: %f 0.8165\n"
     ]
    }
   ],
   "source": [
    "val_loader = torch.utils.data.DataLoader(cifar2_val, batch_size=64, shuffle=False)\n",
    "\n",
    "correct = 0\n",
    "total = 0\n",
    "with torch.no_grad():\n",
    "    for imgs, labels in val_loader:\n",
    "        batch_size = imgs.shape[0]\n",
    "        outputs = model(imgs.view(batch_size, -1))\n",
    "        _, predicted = torch.max(outputs, dim=1)\n",
    "        total += labels.shape[0]\n",
    "        correct += int((predicted == labels).sum())\n",
    "\n",
    "    print(\"Accuracy: %f\", correct / total)"
   ]
  }
 ],
 "metadata": {
  "kernelspec": {
   "display_name": "Python 3",
   "language": "python",
   "name": "python3"
  },
  "language_info": {
   "codemirror_mode": {
    "name": "ipython",
    "version": 3
   },
   "file_extension": ".py",
   "mimetype": "text/x-python",
   "name": "python",
   "nbconvert_exporter": "python",
   "pygments_lexer": "ipython3",
   "version": "3.7.3"
  }
 },
 "nbformat": 4,
 "nbformat_minor": 2
}
